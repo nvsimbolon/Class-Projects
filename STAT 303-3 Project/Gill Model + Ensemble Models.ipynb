{
 "cells": [
  {
   "cell_type": "code",
   "execution_count": 17,
   "id": "badbd0da-5d73-4d7a-8eab-dbdce59c84e6",
   "metadata": {},
   "outputs": [],
   "source": [
    "import pandas as pd\n",
    "import numpy as np\n",
    "import seaborn as sns\n",
    "import matplotlib.pyplot as plt\n",
    "from sklearn.metrics import mean_squared_error\n",
    "from sklearn.model_selection import cross_val_score,train_test_split\n",
    "from sklearn.metrics import roc_curve, precision_recall_curve, auc, make_scorer, recall_score, accuracy_score, precision_score, confusion_matrix\n",
    "from sklearn.model_selection import StratifiedKFold, KFold\n",
    "from sklearn.tree import DecisionTreeClassifier\n",
    "from sklearn.model_selection import GridSearchCV\n",
    "import statsmodels.formula.api as sm\n",
    "import itertools as it\n",
    "from sklearn.model_selection import cross_val_score,train_test_split\n",
    "from sklearn.metrics import roc_curve, precision_recall_curve, auc, make_scorer, recall_score, accuracy_score, precision_score, confusion_matrix\n",
    "from sklearn.model_selection import StratifiedKFold, KFold\n",
    "from sklearn.tree import DecisionTreeClassifier\n",
    "import xgboost as xgb\n",
    "from sklearn.ensemble import StackingClassifier, VotingClassifier\n",
    "from sklearn.linear_model import LogisticRegression\n",
    "from sklearn.ensemble import RandomForestClassifier, AdaBoostClassifier, GradientBoostingClassifier"
   ]
  },
  {
   "cell_type": "code",
   "execution_count": 2,
   "id": "0e3c29ca-3f89-44fa-972f-d76914f438f7",
   "metadata": {},
   "outputs": [],
   "source": [
    "#optimize recall = minimizing FNR + model accuracy (goal)"
   ]
  },
  {
   "cell_type": "code",
   "execution_count": 3,
   "id": "8f843c5d-3071-45d8-b1d8-0cd3108db532",
   "metadata": {},
   "outputs": [],
   "source": [
    "def confusion_matrix_data(data,actual_values,model,cutoff=0.5):\n",
    "    pred_values = model.predict_proba(data)[:,1]\n",
    "    bins=np.array([0,cutoff,1])\n",
    "    cm = np.histogram2d(actual_values, pred_values, bins=bins)[0]\n",
    "    cm_df = pd.DataFrame(cm)\n",
    "    cm_df.columns = ['Predicted 0','Predicted 1']\n",
    "    cm_df = cm_df.rename(index={0: 'Actual 0',1:'Actual 1'})\n",
    "    accuracy = 100*(cm[0,0]+cm[1,1])/cm.sum()\n",
    "    fnr = 100*(cm[1,0])/(cm[1,0]+cm[1,1])\n",
    "    precision = 100*(cm[1,1])/(cm[0,1]+cm[1,1])\n",
    "    recall = 100 - fnr \n",
    "    print(\"Accuracy = \", accuracy)\n",
    "    print(\"FNR = \", fnr)\n",
    "    print(\"Precision = \", precision)\n",
    "    print(\"Recall = \", recall)\n",
    "    print(\"Confusion matrix = \\n\", cm_df)\n",
    "    return (\" \")\n",
    "def plot_precision_recall_vs_threshold(precisions, recalls, thresholds):\n",
    "    plt.figure(figsize=(8, 8))\n",
    "    plt.title(\"Precision and Recall Scores as a function of the decision threshold\")\n",
    "    plt.plot(thresholds, precisions[:-1], \"b--\", label=\"Precision\")\n",
    "    plt.plot(thresholds, recalls[:-1], \"g-\", label=\"Recall\")\n",
    "    plt.ylabel(\"Score\")\n",
    "    plt.xlabel(\"Decision Threshold\")\n",
    "    plt.legend(loc='best')\n",
    "def plot_roc_curve(fpr, tpr, label = None):\n",
    "    plt.figure(figsize=(8,8))\n",
    "    plt.title('ROC Curve')\n",
    "    plt.plot(fpr, tpr, linewidth=2, label = label)\n",
    "    plt.plot([0, 1], [0, 1], 'k--')\n",
    "    plt.axis([-0.005, 1, 0, 1.005])\n",
    "    plt.xticks(np.arange(0, 1, 0.05), rotation = 90)\n",
    "    plt.xlabel(\"False Positive Rate\")\n",
    "    plt.ylabel(\"True Positive Rate (Recall)\")"
   ]
  },
  {
   "cell_type": "code",
   "execution_count": 4,
   "id": "fa28cc06-bad3-4265-b4f1-d9d3a97f7920",
   "metadata": {},
   "outputs": [],
   "source": [
    "data = pd.read_csv(\"mushrooms.csv\")\n",
    "data = data.filter([\"class\", \"gill-attachment\", \"gill-spacing\", \"gill-size\", \"gill-color\"])"
   ]
  },
  {
   "cell_type": "code",
   "execution_count": 5,
   "id": "0c1e39f2-2e46-4922-bf46-2670b7685f1c",
   "metadata": {},
   "outputs": [],
   "source": [
    "#transform all predictors into dummy variables \n",
    "#1 == poisonious, 0 = edible \n",
    "X = pd.get_dummies(data, prefix_sep = '', columns = data.columns.drop('class')).drop(['class'], axis = 1)\n",
    "y = np.where(data[\"class\"] == \"e\", 0, 1)"
   ]
  },
  {
   "cell_type": "code",
   "execution_count": 6,
   "id": "c34112ed-6200-4f52-8706-d2557c317af2",
   "metadata": {},
   "outputs": [],
   "source": [
    "#splitting data into training and testing data\n",
    "X_train, X_test, y_train, y_test = train_test_split(X, y, test_size = 0.33, random_state = 1)"
   ]
  },
  {
   "cell_type": "markdown",
   "id": "b3b11cb2",
   "metadata": {},
   "source": [
    "### Decision Tree Classifier"
   ]
  },
  {
   "cell_type": "code",
   "execution_count": 7,
   "id": "1ba085c5-4fd8-4d9c-9713-4d39db62214a",
   "metadata": {},
   "outputs": [
    {
     "name": "stdout",
     "output_type": "stream",
     "text": [
      "Fitting 5 folds for each of 600 candidates, totalling 3000 fits\n",
      "Best params for recall\n",
      "{'max_depth': 8, 'max_leaf_nodes': 12}\n"
     ]
    }
   ],
   "source": [
    "#param grid to find max_depth and max_leaf_nodes that optimize recall \n",
    "param_grid = {'max_depth': range(5, 20),\n",
    "              'max_leaf_nodes': range(10, 50)}\n",
    "skf = StratifiedKFold(n_splits = 5)\n",
    "grid_search = GridSearchCV(DecisionTreeClassifier(random_state = 1), param_grid, \n",
    "                           scoring = ['precision', 'accuracy', 'recall'], refit = \"recall\", \n",
    "                           cv = skf, n_jobs = -1, verbose = True)\n",
    "grid_search.fit(X_train, y_train)\n",
    "print('Best params for recall')\n",
    "print(grid_search.best_params_)"
   ]
  },
  {
   "cell_type": "code",
   "execution_count": 7,
   "id": "fa463d4d-493c-4e22-b9e8-5588e5648ec3",
   "metadata": {},
   "outputs": [],
   "source": [
    "#fit model with optimized max_depth and max_leaf_nodes, max_depth = 10, max_leaf_nodes = 30\n",
    "model = DecisionTreeClassifier(random_state = 1, max_depth = 8, max_leaf_nodes = 15).fit(X_train, y_train)"
   ]
  },
  {
   "cell_type": "code",
   "execution_count": 8,
   "id": "2ff91b04-d519-4aa3-b03b-19e5a71256ba",
   "metadata": {},
   "outputs": [
    {
     "data": {
      "image/png": "[encoded data removed]",
      "text/plain": [
       "<Figure size 576x576 with 1 Axes>"
      ]
     },
     "metadata": {
      "needs_background": "light"
     },
     "output_type": "display_data"
    }
   ],
   "source": [
    "ypred = model.predict_proba(X_train)[:, 1]\n",
    "p, r, thresholds = precision_recall_curve(y_train, ypred)\n",
    "plot_precision_recall_vs_threshold(p, r, thresholds)"
   ]
  },
  {
   "cell_type": "code",
   "execution_count": 9,
   "id": "04897ca0-b875-4ee9-82be-8805c27474f9",
   "metadata": {},
   "outputs": [
    {
     "data": {
      "image/png": "[encoded data removed]",
      "text/plain": [
       "<Figure size 576x576 with 1 Axes>"
      ]
     },
     "metadata": {
      "needs_background": "light"
     },
     "output_type": "display_data"
    }
   ],
   "source": [
    "ypred = model.predict_proba(X_test)[:, 1]\n",
    "p, r, thresholds = precision_recall_curve(y_test, ypred)\n",
    "plot_precision_recall_vs_threshold(p, r, thresholds)"
   ]
  },
  {
   "cell_type": "code",
   "execution_count": 10,
   "id": "dd96ed07-bcdf-4cf2-a98c-3495bab55923",
   "metadata": {},
   "outputs": [
    {
     "name": "stdout",
     "output_type": "stream",
     "text": [
      "Accuracy =  88.46224508543082\n",
      "FNR =  6.3076923076923075\n",
      "Precision =  84.0\n",
      "Recall =  93.6923076923077\n",
      "Confusion matrix = \n",
      "           Predicted 0  Predicted 1\n",
      "Actual 0       2379.0        464.0\n",
      "Actual 1        164.0       2436.0\n",
      " \n"
     ]
    }
   ],
   "source": [
    "print(confusion_matrix_data(X_train, y_train, model))"
   ]
  },
  {
   "cell_type": "code",
   "execution_count": 11,
   "id": "9b3d4947-0cce-4aee-8b71-78a806d6d857",
   "metadata": {},
   "outputs": [
    {
     "name": "stdout",
     "output_type": "stream",
     "text": [
      "Accuracy =  87.01976874300634\n",
      "FNR =  6.079027355623101\n",
      "Precision =  82.18085106382979\n",
      "Recall =  93.9209726443769\n",
      "Confusion matrix = \n",
      "           Predicted 0  Predicted 1\n",
      "Actual 0       1097.0        268.0\n",
      "Actual 1         80.0       1236.0\n",
      " \n"
     ]
    }
   ],
   "source": [
    "print(confusion_matrix_data(X_test, y_test, model))"
   ]
  },
  {
   "cell_type": "code",
   "execution_count": 12,
   "id": "0e7b3abb-c322-4b8e-b07c-2492d9144bf3",
   "metadata": {},
   "outputs": [
    {
     "name": "stdout",
     "output_type": "stream",
     "text": [
      "ROC-AUC: 0.9580093412160282\n"
     ]
    },
    {
     "data": {
      "image/png": "[encoded data removed]",
      "text/plain": [
       "<Figure size 576x576 with 1 Axes>"
      ]
     },
     "metadata": {
      "needs_background": "light"
     },
     "output_type": "display_data"
    }
   ],
   "source": [
    "fpr, tpr, auc_thresholds = roc_curve(y_test, ypred)\n",
    "plot_roc_curve(fpr, tpr)\n",
    "print(\"ROC-AUC:\", auc(fpr, tpr))"
   ]
  },
  {
   "cell_type": "markdown",
   "id": "39e10c9e",
   "metadata": {},
   "source": [
    "### Random Forest maximizing recall"
   ]
  },
  {
   "cell_type": "code",
   "execution_count": 17,
   "id": "69bbd67f",
   "metadata": {},
   "outputs": [
    {
     "name": "stdout",
     "output_type": "stream",
     "text": [
      "max recall =  85.73076923076923\n",
      "params=  (500, 1, 10, 2)\n"
     ]
    }
   ],
   "source": [
    "params = {'n_estimators': [500],\n",
    "          'max_features': range(1,3),\n",
    "          'max_depth': [2,4,6,8,10],\n",
    "          'min_samples_leaf': [1,2,3,4,5]\n",
    "         }\n",
    "param_list=list(it.product(*(params[Name] for Name in list(params.keys()))))\n",
    "recall = [0]*len(param_list)\n",
    "fnr = [0]*len(param_list)\n",
    "i=0\n",
    "for pr in param_list:\n",
    "    model = RandomForestClassifier(random_state=1,oob_score=True,verbose=False,n_estimators= pr[0],\n",
    "                                   max_features=pr[1], \n",
    "                                   max_depth=pr[2],\n",
    "                                   min_samples_leaf=pr[3],\n",
    "                                   n_jobs=-1).fit(X_train,y_train)\n",
    "    oob_pred = model.oob_decision_function_[:,1]\n",
    "    bins=np.array([0,0.5,1])\n",
    "    cm = np.histogram2d(y_train, oob_pred, bins=bins)[0]\n",
    "    recall[i] = 100*(cm[1,1])/(cm[1,0]+cm[1,1])\n",
    "    fnr[i] = 100*(cm[1,0])/(cm[1,0]+cm[1,1])\n",
    "    i=i+1\n",
    "print(\"max recall = \", np.max(recall))\n",
    "print(\"params= \", param_list[np.argmax(recall)])"
   ]
  },
  {
   "cell_type": "code",
   "execution_count": 18,
   "id": "57f834db",
   "metadata": {},
   "outputs": [],
   "source": [
    "model = RandomForestClassifier(random_state=1,oob_score=True,verbose=False,n_estimators= 500,\n",
    "                               max_features=1, \n",
    "                               max_depth=10,\n",
    "                               min_samples_leaf=2,\n",
    "                               n_jobs=-1).fit(X_train,y_train)"
   ]
  },
  {
   "cell_type": "code",
   "execution_count": 19,
   "id": "dc469eee",
   "metadata": {},
   "outputs": [
    {
     "data": {
      "image/png": "[encoded data removed]",
      "text/plain": [
       "<Figure size 576x576 with 1 Axes>"
      ]
     },
     "metadata": {
      "needs_background": "light"
     },
     "output_type": "display_data"
    },
    {
     "data": {
      "image/png": "[encoded data removed]",
      "text/plain": [
       "<Figure size 576x576 with 1 Axes>"
      ]
     },
     "metadata": {
      "needs_background": "light"
     },
     "output_type": "display_data"
    }
   ],
   "source": [
    "ypred = model.predict_proba(X_train)[:, 1]\n",
    "p, r, thresholds = precision_recall_curve(y_train, ypred)\n",
    "plot_precision_recall_vs_threshold(p, r, thresholds)\n",
    "ypred = model.predict_proba(X_test)[:, 1]\n",
    "p, r, thresholds = precision_recall_curve(y_test, ypred)\n",
    "plot_precision_recall_vs_threshold(p, r, thresholds)"
   ]
  },
  {
   "cell_type": "code",
   "execution_count": 20,
   "id": "93d62785",
   "metadata": {},
   "outputs": [
    {
     "name": "stdout",
     "output_type": "stream",
     "text": [
      "Accuracy =  88.02131177659379\n",
      "FNR =  18.653846153846153\n",
      "Precision =  92.68185801928134\n",
      "Recall =  81.34615384615384\n",
      "Confusion matrix = \n",
      "           Predicted 0  Predicted 1\n",
      "Actual 0       2676.0        167.0\n",
      "Actual 1        485.0       2115.0\n",
      " \n",
      "Accuracy =  87.5419619544946\n",
      "FNR =  18.31306990881459\n",
      "Precision =  92.03767123287672\n",
      "Recall =  81.68693009118542\n",
      "Confusion matrix = \n",
      "           Predicted 0  Predicted 1\n",
      "Actual 0       1272.0         93.0\n",
      "Actual 1        241.0       1075.0\n",
      " \n"
     ]
    }
   ],
   "source": [
    "print(confusion_matrix_data(X_train, y_train, model))\n",
    "print(confusion_matrix_data(X_test, y_test, model))"
   ]
  },
  {
   "cell_type": "markdown",
   "id": "4daf6985",
   "metadata": {},
   "source": [
    "### AdaBoost"
   ]
  },
  {
   "cell_type": "code",
   "execution_count": 21,
   "id": "ab69dd81",
   "metadata": {},
   "outputs": [
    {
     "name": "stdout",
     "output_type": "stream",
     "text": [
      "Best: 0.948077 using {'base_estimator': DecisionTreeClassifier(max_depth=3), 'learning_rate': 0.01, 'n_estimators': 500}\n"
     ]
    }
   ],
   "source": [
    "model = AdaBoostClassifier(random_state=1)\n",
    "grid = dict()\n",
    "grid['n_estimators'] = [10, 50, 100,200,500]\n",
    "grid['learning_rate'] = [0.0001, 0.001, 0.01,0.1, 1.0]\n",
    "grid['base_estimator'] = [DecisionTreeClassifier(max_depth=1),\n",
    "                          DecisionTreeClassifier(max_depth=2),\n",
    "                          DecisionTreeClassifier(max_depth=3),\n",
    "                          DecisionTreeClassifier(max_depth=4)]\n",
    "cv = StratifiedKFold(n_splits=5, shuffle=True, random_state=1)\n",
    "grid_search = GridSearchCV(estimator=model, param_grid=grid, n_jobs=-1, cv=cv,\n",
    "                           scoring=['recall','accuracy'],refit='recall')\n",
    "grid_result = grid_search.fit(X_train, y_train)\n",
    "print(\"Best: %f using %s\" % (grid_result.best_score_, grid_result.best_params_))"
   ]
  },
  {
   "cell_type": "code",
   "execution_count": 22,
   "id": "35e2d5f9",
   "metadata": {},
   "outputs": [],
   "source": [
    "model = AdaBoostClassifier(random_state=1,\n",
    "                           base_estimator =DecisionTreeClassifier(max_depth=3),\n",
    "                           learning_rate=0.01,\n",
    "                           n_estimators=500).fit(X_train,y_train)"
   ]
  },
  {
   "cell_type": "code",
   "execution_count": 23,
   "id": "fcb78420",
   "metadata": {},
   "outputs": [
    {
     "name": "stdout",
     "output_type": "stream",
     "text": [
      "Accuracy =  88.7010839610509\n",
      "FNR =  5.230769230769231\n",
      "Precision =  83.7240910635406\n",
      "Recall =  94.76923076923077\n",
      "Confusion matrix = \n",
      "           Predicted 0  Predicted 1\n",
      "Actual 0       2364.0        479.0\n",
      "Actual 1        136.0       2464.0\n",
      " \n",
      "Accuracy =  87.35546437896308\n",
      "FNR =  4.711246200607903\n",
      "Precision =  81.90725016329196\n",
      "Recall =  95.2887537993921\n",
      "Confusion matrix = \n",
      "           Predicted 0  Predicted 1\n",
      "Actual 0       1088.0        277.0\n",
      "Actual 1         62.0       1254.0\n",
      " \n"
     ]
    }
   ],
   "source": [
    "print(confusion_matrix_data(X_train, y_train, model))\n",
    "print(confusion_matrix_data(X_test, y_test, model))"
   ]
  },
  {
   "cell_type": "markdown",
   "id": "5d0a37d7",
   "metadata": {},
   "source": [
    "### Gradient Boosting"
   ]
  },
  {
   "cell_type": "code",
   "execution_count": 24,
   "id": "66ce471e",
   "metadata": {},
   "outputs": [
    {
     "name": "stdout",
     "output_type": "stream",
     "text": [
      "Best: 0.947692 using {'learning_rate': 0.1, 'max_depth': 2, 'n_estimators': 500, 'subsample': 1.0}\n"
     ]
    }
   ],
   "source": [
    "model = GradientBoostingClassifier(random_state=1)\n",
    "grid = dict()\n",
    "grid['n_estimators'] = [10, 50, 100,200,500]\n",
    "grid['learning_rate'] = [0.0001, 0.001, 0.01,0.1, 1.0]\n",
    "grid['max_depth'] = [1,2,3,4,5]\n",
    "grid['subsample'] = [0.5,1.0]\n",
    "cv = StratifiedKFold(n_splits=5, shuffle=True, random_state=1)\n",
    "grid_search = GridSearchCV(estimator=model, param_grid=grid, n_jobs=-1, cv=cv,\n",
    "                           scoring=['recall','accuracy'],refit='recall')\n",
    "grid_result = grid_search.fit(X_train, y_train)\n",
    "print(\"Best: %f using %s\" % (grid_result.best_score_, grid_result.best_params_))"
   ]
  },
  {
   "cell_type": "code",
   "execution_count": 25,
   "id": "e0755779",
   "metadata": {},
   "outputs": [],
   "source": [
    "model = GradientBoostingClassifier(random_state=1,\n",
    "                                   learning_rate=0.1,\n",
    "                                   max_depth=2,\n",
    "                                   n_estimators=500,\n",
    "                                   subsample = 1.0).fit(X_train,y_train)"
   ]
  },
  {
   "cell_type": "code",
   "execution_count": 26,
   "id": "9ddd7d1c",
   "metadata": {},
   "outputs": [
    {
     "name": "stdout",
     "output_type": "stream",
     "text": [
      "Accuracy =  88.7010839610509\n",
      "FNR =  5.230769230769231\n",
      "Precision =  83.7240910635406\n",
      "Recall =  94.76923076923077\n",
      "Confusion matrix = \n",
      "           Predicted 0  Predicted 1\n",
      "Actual 0       2364.0        479.0\n",
      "Actual 1        136.0       2464.0\n",
      " \n",
      "Accuracy =  87.35546437896308\n",
      "FNR =  4.711246200607903\n",
      "Precision =  81.90725016329196\n",
      "Recall =  95.2887537993921\n",
      "Confusion matrix = \n",
      "           Predicted 0  Predicted 1\n",
      "Actual 0       1088.0        277.0\n",
      "Actual 1         62.0       1254.0\n",
      " \n"
     ]
    }
   ],
   "source": [
    "print(confusion_matrix_data(X_train, y_train, model))\n",
    "print(confusion_matrix_data(X_test, y_test, model))"
   ]
  },
  {
   "cell_type": "markdown",
   "id": "10cf5a60",
   "metadata": {},
   "source": [
    "### XGBoost"
   ]
  },
  {
   "cell_type": "code",
   "execution_count": 29,
   "id": "d44e98d3",
   "metadata": {},
   "outputs": [
    {
     "name": "stdout",
     "output_type": "stream",
     "text": [
      "Fitting 5 folds for each of 729 candidates, totalling 3645 fits\n",
      "{'gamma': 0.1, 'learning_rate': 0.1, 'max_depth': 6, 'n_estimators': 100, 'reg_lambda': 0.01, 'scale_pos_weight': 1.75} 0.9542307692307691\n"
     ]
    }
   ],
   "source": [
    "param_grid = {'n_estimators':[25,100,500],\n",
    "              'max_depth': [6,7,8],\n",
    "              'learning_rate': [0.01,0.1,0.2],\n",
    "              'gamma': [0.1,0.25,0.5],\n",
    "              'reg_lambda':[0,0.01,0.001],\n",
    "              'scale_pos_weight':[1.25,1.5,1.75]\n",
    "             }\n",
    "cv = StratifiedKFold(n_splits=5,shuffle=True,random_state=1)\n",
    "optimal_params = GridSearchCV(estimator=xgb.XGBClassifier(objective = 'binary:logistic',random_state=1,\n",
    "                                                          use_label_encoder=False),\n",
    "                              param_grid = param_grid,\n",
    "                              scoring = ['accuracy','recall'],\n",
    "                              refit = 'recall',\n",
    "                              verbose = 1, n_jobs=-1, cv = cv)\n",
    "optimal_params.fit(X_train,y_train)\n",
    "print(optimal_params.best_params_,optimal_params.best_score_)"
   ]
  },
  {
   "cell_type": "code",
   "execution_count": 7,
   "id": "f0b4ee3f",
   "metadata": {},
   "outputs": [
    {
     "name": "stderr",
     "output_type": "stream",
     "text": [
      "C:\\Users\\nvsim\\anaconda3\\lib\\site-packages\\xgboost\\sklearn.py:793: UserWarning: `eval_metric` in `fit` method is deprecated for better compatibility with scikit-learn, use `eval_metric` in constructor or`set_params` instead.\n",
      "  warnings.warn(\n"
     ]
    },
    {
     "data": {
      "text/plain": [
       "XGBClassifier(base_score=0.5, booster='gbtree', callbacks=None,\n",
       "              colsample_bylevel=1, colsample_bynode=1, colsample_bytree=1,\n",
       "              early_stopping_rounds=None, enable_categorical=False,\n",
       "              eval_metric=None, gamma=0.1, gpu_id=-1, grow_policy='depthwise',\n",
       "              importance_type=None, interaction_constraints='',\n",
       "              learning_rate=0.1, max_bin=256, max_cat_to_onehot=4,\n",
       "              max_delta_step=0, max_depth=6, max_leaves=0, min_child_weight=1,\n",
       "              missing=nan, monotone_constraints='()', n_estimators=100,\n",
       "              n_jobs=0, num_parallel_tree=1, predictor='auto', random_state=1,\n",
       "              reg_alpha=0, reg_lambda=0.01, ...)"
      ]
     },
     "execution_count": 7,
     "metadata": {},
     "output_type": "execute_result"
    }
   ],
   "source": [
    "model = xgb.XGBClassifier(objective = 'binary:logistic',random_state=1,\n",
    "                  gamma=0.1,learning_rate = 0.1,max_depth=6,\n",
    "                  n_estimators = 100,reg_lambda = 0.01,\n",
    "                  scale_pos_weight=1.75,use_label_encoder=False)\n",
    "model.fit(X_train,y_train,eval_metric='error')"
   ]
  },
  {
   "cell_type": "code",
   "execution_count": 8,
   "id": "0d60f1b8",
   "metadata": {},
   "outputs": [
    {
     "name": "stdout",
     "output_type": "stream",
     "text": [
      "Accuracy =  88.38875620062466\n",
      "FNR =  4.076923076923077\n",
      "Precision =  82.58278145695364\n",
      "Recall =  95.92307692307692\n",
      "Confusion matrix = \n",
      "           Predicted 0  Predicted 1\n",
      "Actual 0       2317.0        526.0\n",
      "Actual 1        106.0       2494.0\n",
      " \n",
      "Accuracy =  87.39276389406938\n",
      "FNR =  3.3434650455927053\n",
      "Precision =  81.22605363984674\n",
      "Recall =  96.65653495440729\n",
      "Confusion matrix = \n",
      "           Predicted 0  Predicted 1\n",
      "Actual 0       1071.0        294.0\n",
      "Actual 1         44.0       1272.0\n",
      " \n"
     ]
    }
   ],
   "source": [
    "print(confusion_matrix_data(X_train, y_train, model))\n",
    "print(confusion_matrix_data(X_test, y_test, model))"
   ]
  },
  {
   "cell_type": "markdown",
   "id": "936316ff",
   "metadata": {},
   "source": [
    "### Ensemble"
   ]
  },
  {
   "cell_type": "code",
   "execution_count": 9,
   "id": "4b9af09a",
   "metadata": {},
   "outputs": [],
   "source": [
    "# Decision Tree\n",
    "tree_model =  DecisionTreeClassifier(random_state = 1, max_depth = 8, max_leaf_nodes = 15).fit(X_train, y_train)\n",
    "\n",
    "# Random Forest\n",
    "forest_model = RandomForestClassifier(random_state=1,oob_score=True,verbose=False,n_estimators= 500,\n",
    "                               max_features=1, \n",
    "                               max_depth=10,\n",
    "                               min_samples_leaf=2,\n",
    "                               n_jobs=-1).fit(X_train,y_train)\n",
    "\n",
    "# AdaBoost\n",
    "ada_model = AdaBoostClassifier(random_state=1,\n",
    "                           base_estimator =DecisionTreeClassifier(max_depth=3),\n",
    "                           learning_rate=0.01,\n",
    "                           n_estimators=500).fit(X_train,y_train)\n",
    "\n",
    "# Gradient Boosting\n",
    "grad_model = GradientBoostingClassifier(random_state=1,\n",
    "                                   learning_rate=0.1,\n",
    "                                   max_depth=2,\n",
    "                                   n_estimators=500,\n",
    "                                   subsample = 1.0).fit(X_train,y_train)\n",
    "\n",
    "# XGBoost\n",
    "xgb_model = xgb.XGBClassifier(objective = 'binary:logistic',random_state=1,\n",
    "                  gamma=0.1,learning_rate = 0.1,max_depth=6,\n",
    "                  n_estimators = 100,reg_lambda = 0.01,\n",
    "                  scale_pos_weight=1.75,use_label_encoder=False)"
   ]
  },
  {
   "cell_type": "code",
   "execution_count": 10,
   "id": "9ddf6bad",
   "metadata": {},
   "outputs": [],
   "source": [
    "def confusion_matrix_data_ensembling(data,actual_values,model,cutoff=0.5):\n",
    "    pred_values = model.predict(data)\n",
    "    bins=np.array([0,cutoff,1])\n",
    "    cm = np.histogram2d(actual_values, pred_values, bins=bins)[0]\n",
    "    cm_df = pd.DataFrame(cm)\n",
    "    cm_df.columns = ['Predicted 0','Predicted 1']\n",
    "    cm_df = cm_df.rename(index={0: 'Actual 0',1:'Actual 1'})\n",
    "    accuracy = 100*(cm[0,0]+cm[1,1])/cm.sum()\n",
    "    fnr = 100*(cm[1,0])/(cm[1,0]+cm[1,1])\n",
    "    precision = 100*(cm[1,1])/(cm[0,1]+cm[1,1])\n",
    "    recall = 100 - fnr \n",
    "    print(\"Accuracy = \", accuracy)\n",
    "    print(\"FNR = \", fnr)\n",
    "    print(\"Precision = \", precision)\n",
    "    print(\"Recall = \", recall)\n",
    "    print(\"Confusion matrix = \\n\", cm_df)\n",
    "    return (\" \")"
   ]
  },
  {
   "cell_type": "markdown",
   "id": "1bdb8ede",
   "metadata": {},
   "source": [
    "#### Hard Voting Classifier"
   ]
  },
  {
   "cell_type": "code",
   "execution_count": 13,
   "id": "e91147c3",
   "metadata": {},
   "outputs": [
    {
     "data": {
      "text/plain": [
       "VotingClassifier(estimators=[('tree',\n",
       "                              DecisionTreeClassifier(max_depth=8,\n",
       "                                                     max_leaf_nodes=15,\n",
       "                                                     random_state=1)),\n",
       "                             ('rf',\n",
       "                              RandomForestClassifier(max_depth=10,\n",
       "                                                     max_features=1,\n",
       "                                                     min_samples_leaf=2,\n",
       "                                                     n_estimators=500,\n",
       "                                                     n_jobs=-1, oob_score=True,\n",
       "                                                     random_state=1,\n",
       "                                                     verbose=False)),\n",
       "                             ('ada',\n",
       "                              AdaBoostClassifier(base_estimator=DecisionTreeClassifier(max_depth=3),\n",
       "                                                 learning_rate=0.0...\n",
       "                                            gpu_id=None, grow_policy=None,\n",
       "                                            importance_type=None,\n",
       "                                            interaction_constraints=None,\n",
       "                                            learning_rate=0.1, max_bin=None,\n",
       "                                            max_cat_to_onehot=None,\n",
       "                                            max_delta_step=None, max_depth=6,\n",
       "                                            max_leaves=None,\n",
       "                                            min_child_weight=None, missing=nan,\n",
       "                                            monotone_constraints=None,\n",
       "                                            n_estimators=100, n_jobs=None,\n",
       "                                            num_parallel_tree=None,\n",
       "                                            predictor=None, random_state=1,\n",
       "                                            reg_alpha=None, reg_lambda=0.01, ...))])"
      ]
     },
     "execution_count": 13,
     "metadata": {},
     "output_type": "execute_result"
    }
   ],
   "source": [
    "ensemble_model = VotingClassifier(estimators=[('tree', tree_model),\n",
    "                                              ('rf', forest_model),\n",
    "                                              ('ada',ada_model),\n",
    "                                              ('gb',grad_model),\n",
    "                                              ('xgb',xgb_model)])\n",
    "ensemble_model.fit(X_train,y_train)"
   ]
  },
  {
   "cell_type": "code",
   "execution_count": 23,
   "id": "0bd82c53",
   "metadata": {},
   "outputs": [
    {
     "name": "stdout",
     "output_type": "stream",
     "text": [
      "Accuracy =  88.7010839610509\n",
      "FNR =  5.230769230769231\n",
      "Precision =  83.7240910635406\n",
      "Recall =  94.76923076923077\n",
      "Confusion matrix = \n",
      "           Predicted 0  Predicted 1\n",
      "Actual 0       2364.0        479.0\n",
      "Actual 1        136.0       2464.0\n",
      " \n",
      "Accuracy =  87.35546437896308\n",
      "FNR =  4.711246200607903\n",
      "Precision =  81.90725016329196\n",
      "Recall =  95.2887537993921\n",
      "Confusion matrix = \n",
      "           Predicted 0  Predicted 1\n",
      "Actual 0       1088.0        277.0\n",
      "Actual 1         62.0       1254.0\n",
      " \n"
     ]
    }
   ],
   "source": [
    "print(confusion_matrix_data_ensembling(X_train, y_train, ensemble_model))\n",
    "print(confusion_matrix_data_ensembling(X_test, y_test, ensemble_model))"
   ]
  },
  {
   "cell_type": "markdown",
   "id": "9beae63b",
   "metadata": {},
   "source": [
    "#### Stacking classifier w/ logistic regression as meta model"
   ]
  },
  {
   "cell_type": "code",
   "execution_count": 18,
   "id": "fab4bc16",
   "metadata": {},
   "outputs": [
    {
     "data": {
      "text/plain": [
       "StackingClassifier(cv=StratifiedKFold(n_splits=5, random_state=1, shuffle=True),\n",
       "                   estimators=[('tree',\n",
       "                                DecisionTreeClassifier(max_depth=8,\n",
       "                                                       max_leaf_nodes=15,\n",
       "                                                       random_state=1)),\n",
       "                               ('rf',\n",
       "                                RandomForestClassifier(max_depth=10,\n",
       "                                                       max_features=1,\n",
       "                                                       min_samples_leaf=2,\n",
       "                                                       n_estimators=500,\n",
       "                                                       n_jobs=-1,\n",
       "                                                       oob_score=True,\n",
       "                                                       random_state=1,\n",
       "                                                       verbose=False)),\n",
       "                               ('ada',\n",
       "                                AdaBoostClassifier(base_es...\n",
       "                                              learning_rate=0.1, max_bin=None,\n",
       "                                              max_cat_to_onehot=None,\n",
       "                                              max_delta_step=None, max_depth=6,\n",
       "                                              max_leaves=None,\n",
       "                                              min_child_weight=None,\n",
       "                                              missing=nan,\n",
       "                                              monotone_constraints=None,\n",
       "                                              n_estimators=100, n_jobs=None,\n",
       "                                              num_parallel_tree=None,\n",
       "                                              predictor=None, random_state=1,\n",
       "                                              reg_alpha=None, reg_lambda=0.01, ...))],\n",
       "                   final_estimator=LogisticRegression(max_iter=10000,\n",
       "                                                      random_state=1),\n",
       "                   n_jobs=-1)"
      ]
     },
     "execution_count": 18,
     "metadata": {},
     "output_type": "execute_result"
    }
   ],
   "source": [
    "ensemble_model = StackingClassifier(estimators=[('tree', tree_model),\n",
    "                                              ('rf', forest_model),\n",
    "                                              ('ada',ada_model),\n",
    "                                              ('gb',grad_model),\n",
    "                                              ('xgb',xgb_model)],\n",
    "                                    final_estimator=LogisticRegression(random_state=1,\n",
    "                                                                       max_iter=10000),\n",
    "                                    n_jobs=-1,\n",
    "                                    cv =StratifiedKFold(n_splits=5,\n",
    "                                                        shuffle=True,\n",
    "                                                        random_state=1))\n",
    "ensemble_model.fit(X_train,y_train)"
   ]
  },
  {
   "cell_type": "code",
   "execution_count": 19,
   "id": "34354ebd",
   "metadata": {},
   "outputs": [
    {
     "name": "stdout",
     "output_type": "stream",
     "text": [
      "Accuracy =  88.7010839610509\n",
      "FNR =  5.230769230769231\n",
      "Precision =  83.7240910635406\n",
      "Recall =  94.76923076923077\n",
      "Confusion matrix = \n",
      "           Predicted 0  Predicted 1\n",
      "Actual 0       2364.0        479.0\n",
      "Actual 1        136.0       2464.0\n",
      " \n",
      "Accuracy =  87.35546437896308\n",
      "FNR =  4.711246200607903\n",
      "Precision =  81.90725016329196\n",
      "Recall =  95.2887537993921\n",
      "Confusion matrix = \n",
      "           Predicted 0  Predicted 1\n",
      "Actual 0       1088.0        277.0\n",
      "Actual 1         62.0       1254.0\n",
      " \n"
     ]
    }
   ],
   "source": [
    "print(confusion_matrix_data_ensembling(X_train, y_train, ensemble_model))\n",
    "print(confusion_matrix_data_ensembling(X_test, y_test, ensemble_model))"
   ]
  },
  {
   "cell_type": "markdown",
   "id": "4a61c533",
   "metadata": {},
   "source": [
    "#### Stacking classifier w/ random forest as meta model"
   ]
  },
  {
   "cell_type": "code",
   "execution_count": 20,
   "id": "799559fa",
   "metadata": {},
   "outputs": [
    {
     "name": "stdout",
     "output_type": "stream",
     "text": [
      "max oob score =  0.8833363953702003\n",
      "params=  (500, 1, 2, 1)\n"
     ]
    }
   ],
   "source": [
    "params = {'n_estimators': [500],\n",
    "          'max_features': range(1,3),\n",
    "          'max_depth': [2,4,6,8,10],\n",
    "          'min_samples_leaf': [1,2,3,4,5]\n",
    "         }\n",
    "param_list=list(it.product(*(params[Name] for Name in list(params.keys()))))\n",
    "oob_score = [0]*len(param_list)\n",
    "i=0\n",
    "for pr in param_list:\n",
    "    model = StackingClassifier(estimators=[('tree', tree_model),\n",
    "                                              ('rf', forest_model),\n",
    "                                              ('ada',ada_model),\n",
    "                                              ('gb',grad_model),\n",
    "                                              ('xgb',xgb_model)],\n",
    "                               final_estimator=RandomForestClassifier(n_estimators=500, \n",
    "                                                                      max_features=1,\n",
    "                                                                      random_state=1,\n",
    "                                                                      oob_score=True),\n",
    "                               n_jobs=-1,\n",
    "                               cv =StratifiedKFold(n_splits=5,\n",
    "                                                   shuffle=True,\n",
    "                                                   random_state=1))\n",
    "    model.fit(X_train,y_train)\n",
    "    oob_score[i] = model.final_estimator_.oob_score_\n",
    "    i=i+1\n",
    "print(\"max oob score = \", np.max(oob_score))\n",
    "print(\"params= \", param_list[np.argmax(oob_score)])"
   ]
  },
  {
   "cell_type": "code",
   "execution_count": 21,
   "id": "3c215de4",
   "metadata": {},
   "outputs": [
    {
     "data": {
      "text/plain": [
       "StackingClassifier(cv=StratifiedKFold(n_splits=5, random_state=1, shuffle=True),\n",
       "                   estimators=[('tree',\n",
       "                                DecisionTreeClassifier(max_depth=8,\n",
       "                                                       max_leaf_nodes=15,\n",
       "                                                       random_state=1)),\n",
       "                               ('rf',\n",
       "                                RandomForestClassifier(max_depth=10,\n",
       "                                                       max_features=1,\n",
       "                                                       min_samples_leaf=2,\n",
       "                                                       n_estimators=500,\n",
       "                                                       n_jobs=-1,\n",
       "                                                       oob_score=True,\n",
       "                                                       random_state=1,\n",
       "                                                       verbose=False)),\n",
       "                               ('ada',\n",
       "                                AdaBoostClassifier(base_es...\n",
       "                                              max_delta_step=None, max_depth=6,\n",
       "                                              max_leaves=None,\n",
       "                                              min_child_weight=None,\n",
       "                                              missing=nan,\n",
       "                                              monotone_constraints=None,\n",
       "                                              n_estimators=100, n_jobs=None,\n",
       "                                              num_parallel_tree=None,\n",
       "                                              predictor=None, random_state=1,\n",
       "                                              reg_alpha=None, reg_lambda=0.01, ...))],\n",
       "                   final_estimator=RandomForestClassifier(max_depth=2,\n",
       "                                                          max_features=1,\n",
       "                                                          n_estimators=500,\n",
       "                                                          oob_score=True,\n",
       "                                                          random_state=1),\n",
       "                   n_jobs=-1)"
      ]
     },
     "execution_count": 21,
     "metadata": {},
     "output_type": "execute_result"
    }
   ],
   "source": [
    "ensemble_model = StackingClassifier(estimators=[('tree', tree_model),\n",
    "                                              ('rf', forest_model),\n",
    "                                              ('ada',ada_model),\n",
    "                                              ('gb',grad_model),\n",
    "                                              ('xgb',xgb_model)],\n",
    "                                    final_estimator=RandomForestClassifier(n_estimators=500, \n",
    "                                                                           max_features=1,\n",
    "                                                                           max_depth=2,\n",
    "                                                                           min_samples_leaf=1,\n",
    "                                                                           random_state=1,\n",
    "                                                                           oob_score=True),\n",
    "                                    n_jobs=-1,\n",
    "                                    cv =StratifiedKFold(n_splits=5,\n",
    "                                                        shuffle=True,\n",
    "                                                        random_state=1))\n",
    "ensemble_model.fit(X_train,y_train)"
   ]
  },
  {
   "cell_type": "code",
   "execution_count": 22,
   "id": "f1768211",
   "metadata": {},
   "outputs": [
    {
     "name": "stdout",
     "output_type": "stream",
     "text": [
      "Accuracy =  88.7010839610509\n",
      "FNR =  5.230769230769231\n",
      "Precision =  83.7240910635406\n",
      "Recall =  94.76923076923077\n",
      "Confusion matrix = \n",
      "           Predicted 0  Predicted 1\n",
      "Actual 0       2364.0        479.0\n",
      "Actual 1        136.0       2464.0\n",
      " \n",
      "Accuracy =  87.35546437896308\n",
      "FNR =  4.711246200607903\n",
      "Precision =  81.90725016329196\n",
      "Recall =  95.2887537993921\n",
      "Confusion matrix = \n",
      "           Predicted 0  Predicted 1\n",
      "Actual 0       1088.0        277.0\n",
      "Actual 1         62.0       1254.0\n",
      " \n"
     ]
    }
   ],
   "source": [
    "print(confusion_matrix_data_ensembling(X_train, y_train, ensemble_model))\n",
    "print(confusion_matrix_data_ensembling(X_test, y_test, ensemble_model))"
   ]
  }
 ],
 "metadata": {
  "kernelspec": {
   "display_name": "Python 3",
   "language": "python",
   "name": "python3"
  },
  "language_info": {
   "codemirror_mode": {
    "name": "ipython",
    "version": 3
   },
   "file_extension": ".py",
   "mimetype": "text/x-python",
   "name": "python",
   "nbconvert_exporter": "python",
   "pygments_lexer": "ipython3",
   "version": "3.8.8"
  }
 },
 "nbformat": 4,
 "nbformat_minor": 5
}
